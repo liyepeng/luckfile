{
 "cells": [
  {
   "cell_type": "code",
   "execution_count": 1,
   "metadata": {
    "collapsed": true
   },
   "outputs": [],
   "source": [
    "import xml.etree.ElementTree as ET \n",
    "import pprint \n",
    "from collections import defaultdict \n",
    "import re"
   ]
  },
  {
   "cell_type": "code",
   "execution_count": 2,
   "metadata": {
    "collapsed": false
   },
   "outputs": [],
   "source": [
    "infile=\"houston_texas.osm\""
   ]
  },
  {
   "cell_type": "code",
   "execution_count": 3,
   "metadata": {
    "collapsed": false
   },
   "outputs": [
    {
     "name": "stdout",
     "output_type": "stream",
     "text": [
      "defaultdict(<type 'int'>, {'node': 2865568, 'nd': 3410766, 'bounds': 1, 'member': 27143, 'tag': 2059263, 'relation': 2362, 'way': 344212, 'osm': 1})\n"
     ]
    }
   ],
   "source": [
    "def count_tags(filename): \n",
    "    '''Iterate through each element in the file and add the relevant node name to a dictionary \n",
    "    the first time with a value of 1 and then increment by 1 each time that node appears again.''' \n",
    "    #initialize defaultdict to avoid KeyError and allow new keys not found in dictionary yet \n",
    "    tags = defaultdict(int) \n",
    "    #iterate through each node element and increment the dictionary value for that node.tag key \n",
    "    for event, node in ET.iterparse(filename): \n",
    "        if event == 'end':  \n",
    "            tags[node.tag]+=1 \n",
    "        # discard the element is needed to clear from memory and speed up processing \n",
    "        node.clear()              \n",
    "    return tags \n",
    " \n",
    " \n",
    "tags = count_tags('Houston_texas.osm') \n",
    "pprint.pprint(tags) \n"
   ]
  },
  {
   "cell_type": "code",
   "execution_count": 4,
   "metadata": {
    "collapsed": false
   },
   "outputs": [
    {
     "name": "stdout",
     "output_type": "stream",
     "text": [
      "service area\n",
      "service area\n",
      "{'lower': 839457, 'lower_colon': 1164223, 'other': 55581, 'problemchars': 2}\n"
     ]
    }
   ],
   "source": [
    "\n",
    "#create the three regular expressions we are checking for \n",
    "lower = re.compile(r'^([a-z]|_)*$') \n",
    "lower_colon = re.compile(r'^([a-z]|_)*:([a-z]|_)*$') \n",
    "problemchars = re.compile(r'[=\\+/&<>;\\'\"\\?%#$@\\,\\. \\t\\r\\n]') \n",
    "\n",
    "def key_type(element, keys): \n",
    "    if element.tag == \"tag\": \n",
    "        if re.search(lower, element.attrib['k']):         \n",
    "            keys['lower'] += 1             \n",
    "        elif re.search(lower_colon, element.attrib['k']): \n",
    "            keys['lower_colon'] += 1             \n",
    "        elif re.search(problemchars, element.attrib['k']): \n",
    "            keys['problemchars'] += 1 \n",
    "            #print out any values with problematic characters \n",
    "            #print element             \n",
    "            print element.attrib['k']             \n",
    "        else: \n",
    "            keys['other'] += 1                       \n",
    "    return keys \n",
    " \n",
    "def process_map(filename): \n",
    "    #initialize dictionary \n",
    "    keys = {\"lower\": 0, \"lower_colon\": 0, \"problemchars\": 0, \"other\": 0} \n",
    "    for _, element in ET.iterparse(filename): \n",
    "        keys = key_type(element, keys) \n",
    "        # discard the element is needed to clear from memory and speed up processing \n",
    "        element.clear() \n",
    "    return keys  \n",
    " \n",
    "keys = process_map('Houston_texas.osm') \n",
    "pprint.pprint(keys) \n"
   ]
  },
  {
   "cell_type": "code",
   "execution_count": 5,
   "metadata": {
    "collapsed": false
   },
   "outputs": [
    {
     "name": "stdout",
     "output_type": "stream",
     "text": [
      "1293\n"
     ]
    }
   ],
   "source": [
    "def process_map(filename): \n",
    "    users = set() \n",
    "    for _, element in ET.iterparse(filename): \n",
    "        try: \n",
    "            users.add(element.attrib['uid']) \n",
    "        except KeyError: \n",
    "            pass \n",
    "        element.clear() #to clear memory \n",
    "    return users \n",
    " \n",
    "users = process_map('Houston_texas.osm') \n",
    "print len(users) "
   ]
  },
  {
   "cell_type": "code",
   "execution_count": 5,
   "metadata": {
    "collapsed": true
   },
   "outputs": [],
   "source": [
    "OSMFILE = \"Houston_texas.osm\" \n",
    "street_type_re = re.compile(r'\\b\\S+\\.?$', re.IGNORECASE) \n",
    "\n",
    "expected = [\"Street\", \"Avenue\", \"Boulevard\", \"Drive\", \"Court\", \"Place\", \"Square\", \"Lane\", \"Road\",  \n",
    "             \"Trail\", \"Parkway\", \"Commons\"] \n",
    "\n",
    "# UPDATE THIS VARIABLE            \n",
    "mapping = {'10': '10', \n",
    "           '3305': '3305', \n",
    "           '32500': '32500', \n",
    "           '77A': '77A Avenue', \n",
    "           '8500': '8500', \n",
    "           '99': '99', \n",
    "           'Alley': 'Alley', \n",
    "           'Ave': 'Avenue', \n",
    "           'Ave.': 'Avenue', \n",
    "           'Blvd': 'Boulevard', \n",
    "           'Broadway': 'Broadway', \n",
    "           'Bypass': 'Bypass', \n",
    "           'Centre': 'Centre', \n",
    "           'Close': 'Close', \n",
    "           'Crescent': 'Crescent', \n",
    "           'Diversion': 'Diversion', \n",
    "           'Dr': 'Drive', \n",
    "           'Dr.': 'Drive', \n",
    "           'East': 'East', \n",
    "           'Edmonds': 'Edmonds Street', \n",
    "           'Gate': 'Gate', \n",
    "           'Grove': 'Grove', \n",
    "           'Hastings': 'Hastings Street', \n",
    "           'Highway': 'Highway', \n",
    "           'Hwy': 'Highway', \n",
    "           'Hwy.': 'Highway', \n",
    "           'Kingsway': 'Kingsway', \n",
    "           'Mall': 'Mall', \n",
    "           'Mews': 'Mews', \n",
    "           'Moncton': 'Moncton Street', \n",
    "           'North': 'North', \n",
    "           'Park': 'Park', \n",
    "           'Pender': 'Pender Street', \n",
    "           'RD': 'Road', \n",
    "           'Rd': 'Road', \n",
    "           'Rd.': 'Road', \n",
    "           'Road,': 'Road', \n",
    "           'S.': 'South', \n",
    "           'Sanders': 'Sanders Street', \n",
    "           'South': 'South', \n",
    "           'St': 'Street', \n",
    "           'St.': 'Street', \n",
    "           'Street3': 'Street', \n",
    "           'Terminal': 'Terminal', \n",
    "           'Tsawwassen': 'North Tsawwassen', \n",
    "           'Vancouver': 'Vancouver', \n",
    "           'Walk': 'Walk', \n",
    "           'Way': 'Way', \n",
    "           'West': 'West', \n",
    "           'Willingdon': 'Willingdon', \n",
    "           'Wynd': 'Wynd', \n",
    "           'av': 'Avenue', \n",
    "           'road': 'Road', \n",
    "           'st': 'Street', \n",
    "           'street': 'Street', \n",
    "          } \n",
    "#gotten from looking at the results of the audit \n",
    "#difference between mapping and changes is we are looking at the entire value in changes and not just the last word. see data.py \n",
    "#changes = { 'ing George Hwy.': 'King George Boulevard', \n",
    "#           'W15th st': 'W 15th Street', \n",
    "#           'Howe St. Vancouver': 'Howe Street', \n",
    "#           'W. Hastings St. Vancouver': 'West Hastings Street', \n",
    "#           'Expo Blvd, #3305': 'Expo Boulevard'             \n",
    "#           ' Beatty St': 'Beatty Street'}          \n",
    "##skip are the full values gotten from looking at the results of the audit that we don't want to include in the database. Will use in data.py \n",
    "#skip = [\"10\",\"32500\",\"99\",\"Tsawwassen\",\"Park\",\"Terminal\",\"8500\"] "
   ]
  },
  {
   "cell_type": "code",
   "execution_count": 6,
   "metadata": {
    "collapsed": true
   },
   "outputs": [],
   "source": [
    "def audit_street_type(street_types, street_name): \n",
    "    m = street_type_re.search(street_name) \n",
    "    if m: \n",
    "        street_type = m.group() \n",
    "        if street_type not in expected: \n",
    "            street_types[street_type].add(street_name) "
   ]
  },
  {
   "cell_type": "code",
   "execution_count": 7,
   "metadata": {
    "collapsed": true
   },
   "outputs": [],
   "source": [
    "def is_street_name(elem): \n",
    "    return (elem.attrib['k'] == \"addr:street\") "
   ]
  },
  {
   "cell_type": "code",
   "execution_count": 8,
   "metadata": {
    "collapsed": true
   },
   "outputs": [],
   "source": [
    "def audit(osmfile): \n",
    "    osm_file = open(osmfile, \"r\") \n",
    "    street_types = defaultdict(set) \n",
    "    for event, elem in ET.iterparse(osm_file, events=(\"start\",)): \n",
    "        if elem.tag == \"node\" or elem.tag == \"way\": \n",
    "            for tag in elem.iter(\"tag\"): \n",
    "                if is_street_name(tag): \n",
    "                    audit_street_type(street_types, tag.attrib['v']) \n",
    "    elem.clear() #clear from memory \n",
    "    return street_types  "
   ]
  },
  {
   "cell_type": "code",
   "execution_count": 9,
   "metadata": {
    "collapsed": true
   },
   "outputs": [],
   "source": [
    "def update_name(name, mapping): \n",
    "    '''Update each street name with the replacement ending in the mapping dictionary''' \n",
    "    match = re.search(street_type_re,name) \n",
    "    name = re.sub(street_type_re,mapping[match.group()],name) \n",
    "    return name"
   ]
  },
  {
   "cell_type": "code",
   "execution_count": 10,
   "metadata": {
    "collapsed": false
   },
   "outputs": [
    {
     "name": "stdout",
     "output_type": "stream",
     "text": [
      "{'1/2': set(['Avenue M 1/2', 'Avenue R 1/2']),\n",
      " '10': set(['I 10']),\n",
      " '110': set(['Memorial Drive, Ste 110']),\n",
      " '1142': set(['Lake Woodlands Drive #1142']),\n",
      " '125': set(['798 Sorella Court Suite 125']),\n",
      " '146': set(['TX 146', 'Texas 146']),\n",
      " '1464': set(['FM 1464']),\n",
      " '1488': set(['FM 1488', 'Farm-to-Market Road 1488']),\n",
      " '150': set(['Garth Road Suite 150']),\n",
      " '160': set(['Nelson Way #160']),\n",
      " '1663': set(['FM 1663']),\n",
      " '1764': set(['Farm-to-Market Road 1764']),\n",
      " '18': set(['800 W NASA Parkway #18']),\n",
      " '180': set(['Katy Freeway #180']),\n",
      " '185': set(['I-45 South, Suite 185']),\n",
      " '1960': set(['FM 1960', 'Fm 1960']),\n",
      " '200': set(['College Park Drive Ste 200']),\n",
      " '2100': set(['FM 2100']),\n",
      " '240': set(['Bissonnet St #240']),\n",
      " '242': set(['SH 242']),\n",
      " '249': set(['TX 249']),\n",
      " '270': set(['FM 270']),\n",
      " '290': set(['Highway 290', 'US 290', 'Windfern Rd #290']),\n",
      " '2920': set(['FM 2920', 'Fm 2920']),\n",
      " '300': set(['Town & Country Blvd #300']),\n",
      " '332': set(['TX 332']),\n",
      " '359': set(['FM 359', 'Fm 359']),\n",
      " '36': set(['Highway 36', 'TX 36']),\n",
      " '362': set(['FM 362']),\n",
      " '45': set(['I 45']),\n",
      " '502': set(['Northwest Freeway #502']),\n",
      " '518': set(['FM 518', 'West FM 518']),\n",
      " '529': set(['FM 529']),\n",
      " '59': set(['Southwest Freeway 59', 'US 59', 'United States Highway 59']),\n",
      " '6': set(['Highway 6',\n",
      "           'State Hwy 6',\n",
      "           'TX 6',\n",
      "           'Texas Highway 6',\n",
      "           'West Highway 6']),\n",
      " '646': set(['FM 646']),\n",
      " '6475': set(['County Rd 6475']),\n",
      " '65': set(['County Rd 65']),\n",
      " '650': set(['W Broadway, Suite 650']),\n",
      " '704': set(['Memorial City Way #704']),\n",
      " '77027': set(['77027']),\n",
      " '77096': set(['Meyerland Plaza, Houston, TX 77096']),\n",
      " '87': set(['Highway 87']),\n",
      " '90': set(['Highway 90', 'US 90']),\n",
      " '90A': set(['Highway 90A']),\n",
      " '90a': set(['Hwy 90a']),\n",
      " '925': set(['Katy Freeway Suite 925']),\n",
      " '94': set(['County Road 94']),\n",
      " '940': set(['St Joseph Pkwy #940']),\n",
      " '9k': set(['I-45 #9k']),\n",
      " 'A': set(['Avenue A', 'Dickinson Avenue Suite A']),\n",
      " 'AVE': set(['Harris AVE']),\n",
      " 'AVENUE': set(['SSPRANGLETOP AVENUE']),\n",
      " 'Americas': set(['Avenida de Las Americas']),\n",
      " 'Ave': set(['Houston Ave',\n",
      "             'Lake Robbins Ave',\n",
      "             'N Houston Ave',\n",
      "             'Richmond Ave',\n",
      "             'S. Rice Ave',\n",
      "             'W Bellfort Ave',\n",
      "             'Washington Ave']),\n",
      " 'Ave.': set(['Bertner Ave.']),\n",
      " 'B': set(['Fry Road Suite B', 'Richmond Ave, Ste B']),\n",
      " 'Bailey': set(['Bailey']),\n",
      " 'Beechnut': set(['Beechnut']),\n",
      " 'Blossom': set(['Blossom']),\n",
      " 'Blvd': set(['Highland Blvd',\n",
      "              'John Freeman Blvd',\n",
      "              'Pasadena Blvd',\n",
      "              'Post Oak Blvd',\n",
      "              'Seawall Blvd',\n",
      "              'Sweetwater Blvd',\n",
      "              'University Blvd']),\n",
      " 'Blvd.': set(['Bellaire Blvd.', 'Central City Blvd.', 'Post Oak Blvd.']),\n",
      " 'Broadway': set(['Broadway']),\n",
      " 'Bypass': set(['Alvin Bypass', 'US 290 Bypass']),\n",
      " 'Caroline': set(['Caroline']),\n",
      " 'Circle': set(['Bonnard Circle',\n",
      "                'Lansing Circle',\n",
      "                'South Hidden View Circle',\n",
      "                'West Town Center Circle']),\n",
      " 'Crossing': set(['Brazos Town Crossing', 'Woodland Field Crossing']),\n",
      " 'Crosstimbers': set(['West Crosstimbers']),\n",
      " 'Cypress': set(['Baker Cypress']),\n",
      " 'DRIVE': set(['STONEY CLOUD DRIVE']),\n",
      " 'Dallas': set(['W. Dallas']),\n",
      " 'Dr': set(['1111 Upland Dr',\n",
      "            'Business Center Dr',\n",
      "            'Kensington Dr',\n",
      "            'New Hampton Dr',\n",
      "            'Office Park Dr',\n",
      "            'Park Row Dr',\n",
      "            'Portway Dr',\n",
      "            'Post Oak Place Dr',\n",
      "            'S Wilcrest Dr',\n",
      "            'Six Pines Dr',\n",
      "            'Waugh Dr']),\n",
      " 'Driscoll': set(['Driscoll']),\n",
      " 'Durham': set(['Durham']),\n",
      " 'E': set(['Avenue E', 'FM 1960 E', 'N Sam Houston Pkwy E']),\n",
      " 'East': set(['FM 1960 East',\n",
      "              'North Sam Houston Parkway East',\n",
      "              'South Loop East']),\n",
      " 'Es': set(['Es']),\n",
      " 'F': set(['Avenue F', 'San Felipe Road, suite F', 'Winbern Street, Ste. F']),\n",
      " 'F463': set(['Memorial Drive Suite F463']),\n",
      " 'Felipe': set(['San Felipe']),\n",
      " 'Freeway': set(['East Freeway',\n",
      "                 'Eastex Freeway',\n",
      "                 'Gulf Freeway',\n",
      "                 'Katy Freeway',\n",
      "                 'North Freeway',\n",
      "                 'Northwest Freeway',\n",
      "                 'Southwest Freeway']),\n",
      " 'Frwy': set(['East Frwy']),\n",
      " 'Fuzzel': set(['Riley Fuzzel']),\n",
      " 'Fwy': set(['Katy Fwy', 'Northwest Fwy', 'Southwest Fwy']),\n",
      " 'Graustark': set(['Graustark']),\n",
      " 'Gulfcrest': set(['Gulfcrest']),\n",
      " 'Hidalgo': set(['Hidalgo']),\n",
      " 'Highway': set(['Palmer Highway', 'Spencer Highway']),\n",
      " 'Hillcroft': set(['Hillcroft']),\n",
      " 'I-45': set(['I-45']),\n",
      " 'Isle': set(['Morgan Isle']),\n",
      " 'Kempwood': set(['Kempwood']),\n",
      " 'Knolls': set(['Everett Knolls']),\n",
      " 'L': set(['Avenue L']),\n",
      " 'Lake': set(['Woodcreek Bend Lake']),\n",
      " 'Larchmont': set(['Larchmont']),\n",
      " 'Ln': set(['Iris Bay Ln']),\n",
      " 'Loop': set(['Taub Loop']),\n",
      " 'MacGregor': set(['South MacGregor']),\n",
      " 'Mall': set(['Baybrook Mall']),\n",
      " 'Maroneal': set(['Maroneal']),\n",
      " 'Mews': set(['Chesham Mews']),\n",
      " 'Montrose': set(['Montrose']),\n",
      " 'N': set(['Kingwood Drive #N',\n",
      "           'W Sam Houston Pky N',\n",
      "           'W Sam Houston Pwky N']),\n",
      " 'North': set(['21st Street North',\n",
      "               'East Sam Houston Parkway North',\n",
      "               'Grand Parkway North',\n",
      "               'Highway 59 North',\n",
      "               'Highway 6 North',\n",
      "               'Hwy 6 North',\n",
      "               'Interstate 45 North',\n",
      "               'Kings Manor Drive North',\n",
      "               'Raider Circle North',\n",
      "               'United States Highway 59 North',\n",
      "               'West Sam Houston Parkway North',\n",
      "               'Willow Place Drive North']),\n",
      " 'O': set(['Avenue O']),\n",
      " 'Oaks': set(['West Spreading Oaks']),\n",
      " 'Park': set(['Deer Park', 'NRG Park', 'Pin Oak Park']),\n",
      " 'Pkwy': set(['Shadow Creek Pkwy',\n",
      "              'Tomball Pkwy',\n",
      "              'West Lake Houston Pkwy',\n",
      "              'Will Clayton Pkwy']),\n",
      " 'Plaza': set(['Baylor Plaza', 'E Greenway Plaza', 'One Baylor Plaza']),\n",
      " 'Plaze': set(['One Baylor Plaze']),\n",
      " 'Q': set(['Avenue Q']),\n",
      " 'Rd': set(['Cypress North Houston Rd',\n",
      "            'E Atascocita Rd',\n",
      "            'E FM 528 Rd',\n",
      "            'Kuykendahl Rd',\n",
      "            'Old Katy Rd',\n",
      "            'Powerline Rd',\n",
      "            'Rogerdale Rd',\n",
      "            'Stuebner Airline Rd',\n",
      "            'Westheimer Rd']),\n",
      " 'Rd.': set(['1795 N Fry Rd.', 'W. Greens Rd.']),\n",
      " 'Real': set(['El Camino Real']),\n",
      " 'Richmond': set(['Richmond']),\n",
      " 'Ridge': set(['Creek Ridge']),\n",
      " 'Riverway': set(['Riverway']),\n",
      " 'Road)': set(['FM 1960 East (Humble-Huffman Road)']),\n",
      " 'Rock': set(['Chimney Rock']),\n",
      " 'Row': set(['Park Row']),\n",
      " 'S': set(['Avenue S', 'I-45 S', 'W Grand Pkwy S']),\n",
      " 'ST': set(['MONTGOMERY ST']),\n",
      " 'South': set(['E. Sam Houston Parkway South',\n",
      "               'West Grand Parkway South',\n",
      "               'West Loop South',\n",
      "               'West Sam Houston Parkway South',\n",
      "               'West Sam Houston Pkwy South']),\n",
      " 'Speedway': set(['Buffalo Speedway']),\n",
      " 'St': set([' W Clayton St',\n",
      "            'Beverlyhill St',\n",
      "            'Canal St',\n",
      "            'Dunlavy St',\n",
      "            'McCarty St',\n",
      "            'Milby St',\n",
      "            'N Delmar St',\n",
      "            'San Felipe St',\n",
      "            'Tuam St']),\n",
      " 'St.': set(['Dallas St.', 'East 13th St.']),\n",
      " 'Stree': set(['7th Stree']),\n",
      " 'T': set(['Avenue T']),\n",
      " 'T2008': set(['Southwest Freeway #T2008']),\n",
      " 'TX-332': set(['TX-332']),\n",
      " 'TX-6': set(['TX-6']),\n",
      " 'Terrace': set(['Skyview Terrace']),\n",
      " 'Texas': set(['BIRNHAM WOODS DRIVE SPRING, Texas']),\n",
      " 'Valley': set(['Pine Valley']),\n",
      " 'Walk': set(['City Walk']),\n",
      " 'Way': set(['By the Lake Way',\n",
      "             'Green Land Way',\n",
      "             'Homeward Way',\n",
      "             'Memorial City Way',\n",
      "             'Nelson Way',\n",
      "             'North MacGregor Way',\n",
      "             'This Way',\n",
      "             'Town and Country Way']),\n",
      " 'Welford': set(['Welford']),\n",
      " 'West': set(['1960 West',\n",
      "              'FM 1960 West',\n",
      "              'Hwy 290 West',\n",
      "              'North Loop West',\n",
      "              'South Loop West',\n",
      "              'South Sam Houston Parkway West']),\n",
      " 'Westheimer': set(['Westheimer']),\n",
      " 'Westhimer': set(['Westhimer']),\n",
      " 'blvd': set(['Highland blvd']),\n",
      " 'street': set(['32nd street', 'Washington street'])}\n"
     ]
    }
   ],
   "source": [
    "st_types = audit(OSMFILE) \n",
    "pprint.pprint(dict(st_types))"
   ]
  },
  {
   "cell_type": "code",
   "execution_count": 11,
   "metadata": {
    "collapsed": false
   },
   "outputs": [
    {
     "ename": "KeyError",
     "evalue": "'1142'",
     "output_type": "error",
     "traceback": [
      "\u001b[1;31m---------------------------------------------------------------------------\u001b[0m",
      "\u001b[1;31mKeyError\u001b[0m                                  Traceback (most recent call last)",
      "\u001b[1;32m<ipython-input-11-9859e56eac80>\u001b[0m in \u001b[0;36m<module>\u001b[1;34m()\u001b[0m\n\u001b[0;32m      1\u001b[0m \u001b[1;32mfor\u001b[0m \u001b[0mst_type\u001b[0m\u001b[1;33m,\u001b[0m \u001b[0mways\u001b[0m \u001b[1;32min\u001b[0m \u001b[0mst_types\u001b[0m\u001b[1;33m.\u001b[0m\u001b[0miteritems\u001b[0m\u001b[1;33m(\u001b[0m\u001b[1;33m)\u001b[0m\u001b[1;33m:\u001b[0m\u001b[1;33m\u001b[0m\u001b[0m\n\u001b[0;32m      2\u001b[0m     \u001b[1;32mfor\u001b[0m \u001b[0mname\u001b[0m \u001b[1;32min\u001b[0m \u001b[0mways\u001b[0m\u001b[1;33m:\u001b[0m\u001b[1;33m\u001b[0m\u001b[0m\n\u001b[1;32m----> 3\u001b[1;33m         \u001b[0mbetter_name\u001b[0m \u001b[1;33m=\u001b[0m \u001b[0mupdate_name\u001b[0m\u001b[1;33m(\u001b[0m\u001b[0mname\u001b[0m\u001b[1;33m,\u001b[0m \u001b[0mmapping\u001b[0m\u001b[1;33m)\u001b[0m\u001b[1;33m\u001b[0m\u001b[0m\n\u001b[0m\u001b[0;32m      4\u001b[0m         \u001b[1;32mprint\u001b[0m \u001b[0mname\u001b[0m\u001b[1;33m,\u001b[0m \u001b[1;34m\"=>\"\u001b[0m\u001b[1;33m,\u001b[0m \u001b[0mbetter_name\u001b[0m\u001b[1;33m\u001b[0m\u001b[0m\n",
      "\u001b[1;32m<ipython-input-9-7520cd101cdc>\u001b[0m in \u001b[0;36mupdate_name\u001b[1;34m(name, mapping)\u001b[0m\n\u001b[0;32m      2\u001b[0m     \u001b[1;34m'''Update each street name with the replacement ending in the mapping dictionary'''\u001b[0m\u001b[1;33m\u001b[0m\u001b[0m\n\u001b[0;32m      3\u001b[0m     \u001b[0mmatch\u001b[0m \u001b[1;33m=\u001b[0m \u001b[0mre\u001b[0m\u001b[1;33m.\u001b[0m\u001b[0msearch\u001b[0m\u001b[1;33m(\u001b[0m\u001b[0mstreet_type_re\u001b[0m\u001b[1;33m,\u001b[0m\u001b[0mname\u001b[0m\u001b[1;33m)\u001b[0m\u001b[1;33m\u001b[0m\u001b[0m\n\u001b[1;32m----> 4\u001b[1;33m     \u001b[0mname\u001b[0m \u001b[1;33m=\u001b[0m \u001b[0mre\u001b[0m\u001b[1;33m.\u001b[0m\u001b[0msub\u001b[0m\u001b[1;33m(\u001b[0m\u001b[0mstreet_type_re\u001b[0m\u001b[1;33m,\u001b[0m\u001b[0mmapping\u001b[0m\u001b[1;33m[\u001b[0m\u001b[0mmatch\u001b[0m\u001b[1;33m.\u001b[0m\u001b[0mgroup\u001b[0m\u001b[1;33m(\u001b[0m\u001b[1;33m)\u001b[0m\u001b[1;33m]\u001b[0m\u001b[1;33m,\u001b[0m\u001b[0mname\u001b[0m\u001b[1;33m)\u001b[0m\u001b[1;33m\u001b[0m\u001b[0m\n\u001b[0m\u001b[0;32m      5\u001b[0m     \u001b[1;32mreturn\u001b[0m \u001b[0mname\u001b[0m\u001b[1;33m\u001b[0m\u001b[0m\n",
      "\u001b[1;31mKeyError\u001b[0m: '1142'"
     ]
    }
   ],
   "source": [
    "for st_type, ways in st_types.iteritems(): \n",
    "    for name in ways: \n",
    "        better_name = update_name(name, mapping) \n",
    "        print name, \"=>\", better_name \n"
   ]
  },
  {
   "cell_type": "code",
   "execution_count": null,
   "metadata": {
    "collapsed": true
   },
   "outputs": [],
   "source": []
  }
 ],
 "metadata": {
  "anaconda-cloud": {},
  "kernelspec": {
   "display_name": "Python [Root]",
   "language": "python",
   "name": "Python [Root]"
  },
  "language_info": {
   "codemirror_mode": {
    "name": "ipython",
    "version": 2
   },
   "file_extension": ".py",
   "mimetype": "text/x-python",
   "name": "python",
   "nbconvert_exporter": "python",
   "pygments_lexer": "ipython2",
   "version": "2.7.12"
  }
 },
 "nbformat": 4,
 "nbformat_minor": 0
}
