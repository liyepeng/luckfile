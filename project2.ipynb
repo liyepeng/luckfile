{
 "cells": [
  {
   "cell_type": "markdown",
   "metadata": {},
   "source": [
    "# 1. Introduction \n",
    "\n",
    "For this project we were asked to select a dataset and using the data answer a question of our \n",
    "choosing. I selected the Titanic Data Set which looks at the characteristics of a sample of the\n",
    "passengers on the Titanic, including whether they survived or not, gender, age, \n",
    "siblings / spouses, parents and children, fare (cost of ticket), embarkation port.\n",
    "\n",
    "After looking at the contents of the dataset, I thought it would be interesting to look at the following questions:\n",
    "Which gender had a better chance of survival?\n",
    "Which social class had a better chance of survival?\n",
    "Which age group had a better chance of survival?\n",
    "Is the number of siblings/spouse associated with the survival?\n",
    "Is the number of parents and children associated with survival?\n"
   ]
  },
  {
   "cell_type": "markdown",
   "metadata": {},
   "source": [
    "# 2. Method\n",
    "\n",
    "In order to analyse and report on the data, I have choosen to use ipython notebook, \n",
    "along with the numpy, pandas, matplotlib.pyplot and seaborn python modules. In order \n",
    "to use these modules they needed to be imported into the notebook first as per below.\n"
   ]
  },
  {
   "cell_type": "code",
   "execution_count": 1,
   "metadata": {
    "collapsed": false
   },
   "outputs": [
    {
     "name": "stdout",
     "output_type": "stream",
     "text": [
      "Populating the interactive namespace from numpy and matplotlib\n"
     ]
    }
   ],
   "source": [
    "#importing of required modules\n",
    "import numpy as np\n",
    "import pandas as pd\n",
    "import matplotlib.pyplot as plt\n",
    "import seaborn as sns\n",
    "from numbers import Number\n",
    "from scipy import stats\n",
    "#allow plots and visualisations to be displayed in the report\n",
    "%pylab inline"
   ]
  },
  {
   "cell_type": "code",
   "execution_count": 2,
   "metadata": {
    "collapsed": true
   },
   "outputs": [],
   "source": [
    "def as_percent(val, precision='0.2'):\n",
    "    \"\"\"Convert number to percentage string.\"\"\"\n",
    "    if isinstance(val, Number):\n",
    "        return \"{{:{}%}}\".format(precision).format(val)\n",
    "    else:\n",
    "        raise TypeError(\"Numeric type required\")\n",
    "\n",
    "def calculate_percentage(val, total, format_percent = False):\n",
    "    \"\"\"Calculates the percentage of a value over a total\"\"\"\n",
    "    percent = np.divide(val, total, dtype=float)\n",
    "    if format_percent:\n",
    "        percent = as_percent(percent)\n",
    "    return percent"
   ]
  },
  {
   "cell_type": "markdown",
   "metadata": {},
   "source": [
    "# 3. Read csv files"
   ]
  },
  {
   "cell_type": "code",
   "execution_count": 3,
   "metadata": {
    "collapsed": false
   },
   "outputs": [],
   "source": [
    "# Read csv into Pandas Dataframe and store in dataset variable\n",
    "titanic_df = pd.read_csv('titanic_data.csv')\n",
    "titanic_df2 = pd.read_csv('titanic_data.csv')"
   ]
  },
  {
   "cell_type": "markdown",
   "metadata": {},
   "source": [
    "# 4. Data Wrangling \n",
    "\n",
    "Before working with the data it is necessary to look at what needed to be cleaned up\n",
    "i.e. find missing data, remove data that will not assist with the analysis.\n"
   ]
  },
  {
   "cell_type": "code",
   "execution_count": 4,
   "metadata": {
    "collapsed": false
   },
   "outputs": [
    {
     "name": "stdout",
     "output_type": "stream",
     "text": [
      "<class 'pandas.core.frame.DataFrame'>\n",
      "RangeIndex: 891 entries, 0 to 890\n",
      "Data columns (total 12 columns):\n",
      "PassengerId    891 non-null int64\n",
      "Survived       891 non-null int64\n",
      "Pclass         891 non-null int64\n",
      "Name           891 non-null object\n",
      "Sex            891 non-null object\n",
      "Age            714 non-null float64\n",
      "SibSp          891 non-null int64\n",
      "Parch          891 non-null int64\n",
      "Ticket         891 non-null object\n",
      "Fare           891 non-null float64\n",
      "Cabin          204 non-null object\n",
      "Embarked       889 non-null object\n",
      "dtypes: float64(2), int64(5), object(5)\n",
      "memory usage: 83.6+ KB\n"
     ]
    }
   ],
   "source": [
    "# print out information about the data\n",
    "titanic_df.info()"
   ]
  },
  {
   "cell_type": "markdown",
   "metadata": {},
   "source": [
    "After printing out the dataset information above, we can see that the Age, Cabin and Embarked columns are missing entries. As the Cabin and embarked port columns are not relevant to the analysis of the data I will be removing that columns. And I will need to find a way update populate the missing ages.\n"
   ]
  },
  {
   "cell_type": "markdown",
   "metadata": {},
   "source": [
    "# 4.1 Missing value for age"
   ]
  },
  {
   "cell_type": "code",
   "execution_count": 5,
   "metadata": {
    "collapsed": false
   },
   "outputs": [],
   "source": [
    "missing_ages = titanic_df2[titanic_df['Age'].isnull()]\n",
    "# determine mean age based on Sex and Pclass\n",
    "mean_ages = titanic_df2.groupby(['Sex','Pclass'])['Age'].mean()\n",
    "\n",
    "# fill the missing age values with the mean age based on sex and pclass\n",
    "def remove_na_ages(row):\n",
    "    '''\n",
    "    function to check if the age is null and replace wth the mean from \n",
    "    the mean ages dataframe \n",
    "    '''\n",
    "    if pd.isnull(row['Age']):\n",
    "        return mean_ages[row['Sex'],row['Pclass']]\n",
    "    else:\n",
    "        return row['Age']\n",
    "\n",
    "titanic_df2['Age'] =titanic_df2.apply(remove_na_ages, axis=1)"
   ]
  },
  {
   "cell_type": "code",
   "execution_count": 6,
   "metadata": {
    "collapsed": true
   },
   "outputs": [],
   "source": [
    "# Grouping age values\n",
    "age_labels = ['0-9', '10-19', '20-29', '30-39', '40-49', '50-59', '60-69', '70-79']\n",
    "titanic_df['age_group'] = pd.cut(titanic_df.Age, range(0, 90, 10), right=False, labels=age_labels)\n",
    "titanic_df2['age_group'] = pd.cut(titanic_df2.Age, range(0, 90, 10), right=False, labels=age_labels)"
   ]
  },
  {
   "cell_type": "code",
   "execution_count": 7,
   "metadata": {
    "collapsed": false
   },
   "outputs": [
    {
     "data": {
      "text/plain": [
       "<matplotlib.axes._subplots.AxesSubplot at 0xa360208>"
      ]
     },
     "execution_count": 7,
     "metadata": {},
     "output_type": "execute_result"
    },
    {
     "data": {
      "image/png": "[encoded data removed]",
      "text/plain": [
       "<matplotlib.figure.Figure at 0xa4ec780>"
      ]
     },
     "metadata": {},
     "output_type": "display_data"
    }
   ],
   "source": [
    "# plot of distribution o age without filling in missing values(red line)\n",
    "# plot of distribution o age with filling in missing values(blue line)\n",
    "titanic_df.groupby(['age_group']).size().plot(kind='line',color='r')\n",
    "plt.title(\"Distribution of Age with/without filling in missing values\",fontsize=14)\n",
    "plt.ylabel('Count')\n",
    "plt.xlabel('Age Group');\n",
    "titanic_df2.groupby(['age_group']).size().plot(kind='line',color='b')"
   ]
  },
  {
   "cell_type": "markdown",
   "metadata": {},
   "source": [
    "The above figure shows filling in missing values with the Age column artificially affects the distribution. We can observe this by plotting the line before and after. It means that I can't reasonably infer things about the Age variable and its relationships with other variables if I fill in missing values with mean. So I choose a simple way that it just removes the passengers with missing age when I need to use age variable."
   ]
  },
  {
   "cell_type": "markdown",
   "metadata": {},
   "source": [
    "# 4.2 Two datasets\n",
    "1.One dataset not removed with missing age values is to be used for analyzing variables except age.\n",
    "2.Another dataset reomoved with missing age values is to be used for analyzing age variable."
   ]
  },
  {
   "cell_type": "code",
   "execution_count": 8,
   "metadata": {
    "collapsed": false
   },
   "outputs": [],
   "source": [
    "titanic_dropna = pd.read_csv('titanic_data.csv')"
   ]
  },
  {
   "cell_type": "code",
   "execution_count": 9,
   "metadata": {
    "collapsed": false
   },
   "outputs": [
    {
     "name": "stdout",
     "output_type": "stream",
     "text": [
      "Row number for Survival variable before droping missing value:\n",
      "891\n",
      "Row number for Survival variable after droping missing value:\n",
      "714\n"
     ]
    }
   ],
   "source": [
    "titanic_dropna['Age'].replace('', np.nan, inplace=True)\n",
    "print \"Row number for Survival variable before droping missing value:\"\n",
    "print len(titanic_dropna.Survived)\n",
    "\n",
    "titanic_dropna.dropna(subset=['Age'], inplace=True)\n",
    "print \"Row number for Survival variable after droping missing value:\"\n",
    "print len(titanic_dropna.Survived)"
   ]
  },
  {
   "cell_type": "code",
   "execution_count": 10,
   "metadata": {
    "collapsed": true
   },
   "outputs": [],
   "source": [
    "titanic_dropna['age_group'] = pd.cut(titanic_df2.Age, range(0, 81, 10), right=False, labels=age_labels)"
   ]
  },
  {
   "cell_type": "markdown",
   "metadata": {},
   "source": [
    "# 4.3 Removing extra columns"
   ]
  },
  {
   "cell_type": "code",
   "execution_count": 11,
   "metadata": {
    "collapsed": false
   },
   "outputs": [
    {
     "name": "stdout",
     "output_type": "stream",
     "text": [
      "<class 'pandas.core.frame.DataFrame'>\n",
      "RangeIndex: 891 entries, 0 to 890\n",
      "Data columns (total 9 columns):\n",
      "PassengerId    891 non-null int64\n",
      "Survived       891 non-null int64\n",
      "Pclass         891 non-null int64\n",
      "Sex            891 non-null object\n",
      "Age            714 non-null float64\n",
      "SibSp          891 non-null int64\n",
      "Parch          891 non-null int64\n",
      "Fare           891 non-null float64\n",
      "age_group      713 non-null category\n",
      "dtypes: category(1), float64(2), int64(5), object(1)\n",
      "memory usage: 56.7+ KB\n"
     ]
    }
   ],
   "source": [
    "titanic_df = titanic_df.drop(['Cabin','Name','Ticket','Embarked'], axis=1)\n",
    "titanic_df.info()"
   ]
  },
  {
   "cell_type": "code",
   "execution_count": 12,
   "metadata": {
    "collapsed": false
   },
   "outputs": [
    {
     "name": "stdout",
     "output_type": "stream",
     "text": [
      "<class 'pandas.core.frame.DataFrame'>\n",
      "Int64Index: 714 entries, 0 to 890\n",
      "Data columns (total 9 columns):\n",
      "PassengerId    714 non-null int64\n",
      "Survived       714 non-null int64\n",
      "Pclass         714 non-null int64\n",
      "Sex            714 non-null object\n",
      "Age            714 non-null float64\n",
      "SibSp          714 non-null int64\n",
      "Parch          714 non-null int64\n",
      "Fare           714 non-null float64\n",
      "age_group      713 non-null category\n",
      "dtypes: category(1), float64(2), int64(5), object(1)\n",
      "memory usage: 51.0+ KB\n"
     ]
    }
   ],
   "source": [
    "titanic_dropna = titanic_dropna.drop(['Cabin','Name','Ticket','Embarked'], axis=1)\n",
    "titanic_dropna.info()"
   ]
  },
  {
   "cell_type": "markdown",
   "metadata": {},
   "source": [
    "# 4.4 Mapping data\n",
    "In order to intrepret the data easier the following fields need to be modified:\n",
    "\n",
    "•Survived - changed to boolean (1 = True, 0 = False)\n",
    "•Pclass - changed to Socio-Economic status (1st - Upper Class, 2nd - Middle Class, 3rd - Lower Class)"
   ]
  },
  {
   "cell_type": "code",
   "execution_count": 13,
   "metadata": {
    "collapsed": false
   },
   "outputs": [],
   "source": [
    "def map_data(df):\n",
    "    '''\n",
    "    Function which takes the original dataframe and returns a \n",
    "    clean / updated dataframe\n",
    "    '''\n",
    "    # survived map\n",
    "    survived_map = {0: False, 1: True}\n",
    "    df['Survived'] = df['Survived'].map(survived_map)\n",
    "\n",
    "    # PClass map\n",
    "    pclass_map = {1: 'Upper Class', 2: 'Middle Class', 3: 'Lower Class'}\n",
    "    df['Pclass'] = df['Pclass'].map(pclass_map)\n",
    "    return df\n",
    "\n",
    "titanic_df = map_data(titanic_df)\n"
   ]
  },
  {
   "cell_type": "code",
   "execution_count": 14,
   "metadata": {
    "collapsed": false
   },
   "outputs": [
    {
     "name": "stdout",
     "output_type": "stream",
     "text": [
      "   PassengerId Survived       Pclass     Sex   Age  SibSp  Parch     Fare  \\\n",
      "0            1    False  Lower Class    male  22.0      1      0   7.2500   \n",
      "1            2     True  Upper Class  female  38.0      1      0  71.2833   \n",
      "2            3     True  Lower Class  female  26.0      0      0   7.9250   \n",
      "\n",
      "  age_group  \n",
      "0     20-29  \n",
      "1     30-39  \n",
      "2     20-29  \n"
     ]
    }
   ],
   "source": [
    "titanic_dropna = map_data(titanic_dropna)\n",
    "print titanic_dropna.head(3)"
   ]
  },
  {
   "cell_type": "markdown",
   "metadata": {},
   "source": [
    "# 5 Data Analysis"
   ]
  },
  {
   "cell_type": "markdown",
   "metadata": {},
   "source": [
    "# 5.1 Gender and Survial"
   ]
  },
  {
   "cell_type": "code",
   "execution_count": 15,
   "metadata": {
    "collapsed": false
   },
   "outputs": [
    {
     "name": "stdout",
     "output_type": "stream",
     "text": [
      "Sex       female  male\n",
      "Survived              \n",
      "False         81   468\n",
      "True         233   109\n",
      " \n",
      "Sex\n",
      "female    0.742038\n",
      "male      0.188908\n",
      "Name: Survived, dtype: float64\n"
     ]
    }
   ],
   "source": [
    "#Count and percentage of Survivals by gender\n",
    "table = pd.crosstab(titanic_df['Survived'],titanic_df['Sex'])\n",
    "print table\n",
    "print \" \"\n",
    "print titanic_df.groupby('Sex').Survived.mean()"
   ]
  },
  {
   "cell_type": "code",
   "execution_count": 16,
   "metadata": {
    "collapsed": false
   },
   "outputs": [
    {
     "data": {
      "text/plain": [
       "<matplotlib.text.Text at 0xbb9cda0>"
      ]
     },
     "execution_count": 16,
     "metadata": {},
     "output_type": "execute_result"
    },
    {
     "data": {
      "image/png": "[encoded data removed]",
      "text/plain": [
       "<matplotlib.figure.Figure at 0xbab3588>"
      ]
     },
     "metadata": {},
     "output_type": "display_data"
    }
   ],
   "source": [
    "# Count number of passengers and number of survivors in sample data\n",
    "survivors_data = titanic_df[titanic_df.Survived==True]\n",
    "non_survivors_data = titanic_df[titanic_df.Survived==False]\n",
    "\n",
    "# calculate values for each survival status\n",
    "survivors_gender = survivors_data.groupby(['Sex']).size().values\n",
    "non_survivors_gender = non_survivors_data.groupby(['Sex']).size().values\n",
    "\n",
    "# calculate totals for percentates\n",
    "totals = survivors_gender + non_survivors_gender\n",
    "\n",
    "# use calculate_percentage_function to calculate percentage of the total\n",
    "data1_percentages = calculate_percentage(survivors_gender, totals)*100 \n",
    "data2_percentages = calculate_percentage(non_survivors_gender, totals)*100 \n",
    "\n",
    "gender_categories = ['Female', 'Male']\n",
    "\n",
    "f, (ax1, ax2) = plt.subplots(1, 2, figsize=(8,5))\n",
    "# plot chart for count of survivors by class\n",
    "ax1.bar(range(len(survivors_gender)), survivors_gender, label='Survivors', alpha=0.7, color='b')\n",
    "ax1.bar(range(len(non_survivors_gender)), non_survivors_gender, bottom=survivors_gender, label='Non-Survivors', alpha=0.7, color='r')\n",
    "plt.sca(ax1)\n",
    "plt.xticks([0.4, 1.4], gender_categories )\n",
    "ax1.set_ylabel(\"Count\")\n",
    "ax1.set_xlabel(\"\")\n",
    "ax1.set_title(\"Count of survivors by gender\",fontsize=14)\n",
    "plt.legend(loc='upper left')\n",
    "\n",
    "# plot chart for percentage of survivors by class\n",
    "ax2.bar(range(len(data1_percentages)), data1_percentages, alpha=0.7, color='b')\n",
    "ax2.bar(range(len(data2_percentages)), data2_percentages, bottom=data1_percentages, alpha=0.7, color='r')\n",
    "plt.sca(ax2)\n",
    "plt.xticks([0.4, 1.4],  gender_categories)\n",
    "ax2.set_ylabel(\"Percentage\")\n",
    "ax2.set_xlabel(\"\")\n",
    "ax2.set_title(\"% of survivors by gender\",fontsize=14)"
   ]
  },
  {
   "cell_type": "markdown",
   "metadata": {},
   "source": [
    "The plots and proportions above show that there were more males on board the Titanic compared to the number of females. Whilst the second plot (% of survivors by gender) shows that Females had a higher proportion (74.2%) of survivors compared to the proportion of males (18.9%). This shows that females had a greater rate of survival."
   ]
  },
  {
   "cell_type": "markdown",
   "metadata": {},
   "source": [
    "# Hypotesting\n",
    "\n",
    "Hypothesis \n",
    "H0 = Gender has no relationship with survival.\n",
    "H1 = Gender has relationship with survival.\n",
    "\n",
    "Conclusion: \n",
    "Chi-Square-Test shows p value less than 0.05. So at alpha=0.05 level we reject H0 and consider that gender has relationship with survival."
   ]
  },
  {
   "cell_type": "code",
   "execution_count": 17,
   "metadata": {
    "collapsed": false
   },
   "outputs": [
    {
     "name": "stdout",
     "output_type": "stream",
     "text": [
      "Sex       female  male\n",
      "Survived              \n",
      "False         81   468\n",
      "True         233   109\n",
      "{'P-Value': 1.1973570627755645e-58, 'Chi-Square Test': 260.71702016732104}\n"
     ]
    }
   ],
   "source": [
    "table = pd.crosstab([titanic_df['Survived']], titanic_df['Sex'])\n",
    "chi2, p, dof, expected = stats.chi2_contingency(table.values)\n",
    "results = {\n",
    "    'Chi-Square Test': chi2,\n",
    "    'P-Value': p\n",
    "}\n",
    "print table\n",
    "print results"
   ]
  },
  {
   "cell_type": "markdown",
   "metadata": {},
   "source": [
    "# 5.2 Social class and survival"
   ]
  },
  {
   "cell_type": "code",
   "execution_count": 18,
   "metadata": {
    "collapsed": false
   },
   "outputs": [
    {
     "name": "stdout",
     "output_type": "stream",
     "text": [
      "Pclass    Lower Class  Middle Class  Upper Class\n",
      "Survived                                        \n",
      "False             372            97           80\n",
      "True              119            87          136\n",
      " \n",
      "Pclass\n",
      "Lower Class     0.242363\n",
      "Middle Class    0.472826\n",
      "Upper Class     0.629630\n",
      "Name: Survived, dtype: float64\n"
     ]
    }
   ],
   "source": [
    "# count and percentage by Pclass\n",
    "table = pd.crosstab(titanic_df['Survived'],titanic_df['Pclass'])\n",
    "print table\n",
    "print \" \"\n",
    "print titanic_df.groupby('Pclass').Survived.mean()"
   ]
  },
  {
   "cell_type": "code",
   "execution_count": 19,
   "metadata": {
    "collapsed": false
   },
   "outputs": [
    {
     "data": {
      "text/plain": [
       "<matplotlib.text.Text at 0xc0fdf98>"
      ]
     },
     "execution_count": 19,
     "metadata": {},
     "output_type": "execute_result"
    },
    {
     "data": {
      "image/png": "[encoded data removed]",
      "text/plain": [
       "<matplotlib.figure.Figure at 0xbad8a58>"
      ]
     },
     "metadata": {},
     "output_type": "display_data"
    }
   ],
   "source": [
    "# calculate values for each survival status\n",
    "survivors_class = survivors_data.groupby(['Pclass']).size().values\n",
    "non_survivors_class = non_survivors_data.groupby(['Pclass']).size().values\n",
    "\n",
    "# calculate totals for percentates\n",
    "totals = survivors_class + non_survivors_class\n",
    "\n",
    "# use calculate_percentage_function to calculate percentage of the total\n",
    "data1_percentages = calculate_percentage(survivors_class, totals)*100 \n",
    "data2_percentages = calculate_percentage(non_survivors_class, totals)*100 \n",
    "\n",
    "class_categories = ['Lower Class', 'Middle Class', 'Upper Class']\n",
    "\n",
    "f, (ax1, ax2) = plt.subplots(1, 2, figsize=(8,5))\n",
    "# plot chart for count of survivors by class\n",
    "ax1.bar(range(len(survivors_class)), survivors_class, label='Survivors', alpha=0.5, color='b')\n",
    "ax1.bar(range(len(non_survivors_class)), non_survivors_class, bottom=survivors_class, label='Non-Survivors', alpha=0.5, color='r')\n",
    "plt.sca(ax1)\n",
    "plt.xticks([0.4, 1.4, 2.4], class_categories )\n",
    "ax1.set_ylabel(\"Count\")\n",
    "ax1.set_xlabel(\"\")\n",
    "ax1.set_title(\"Count of survivors by class\",fontsize=14)\n",
    "plt.legend(loc='upper right')\n",
    "\n",
    "# plot chart for percentage of survivors by class\n",
    "ax2.bar(range(len(data1_percentages)), data1_percentages, alpha=0.5, color='b')\n",
    "ax2.bar(range(len(data2_percentages)), data2_percentages, bottom=data1_percentages, alpha=0.5, color='r')\n",
    "plt.sca(ax2)\n",
    "plt.xticks([0.4, 1.4, 2.4],  class_categories)\n",
    "ax2.set_ylabel(\"Percentage\")\n",
    "ax2.set_xlabel(\"\")\n",
    "ax2.set_title(\"% of survivors by class\",fontsize=14)"
   ]
  },
  {
   "cell_type": "markdown",
   "metadata": {},
   "source": [
    "The graphs above shows that whilst the lower class had more passengers, than all classes, and more survivors than the middle class, the lower class had the lowest survival rate. The Upper Class passengers had the highest survival rate."
   ]
  },
  {
   "cell_type": "markdown",
   "metadata": {},
   "source": [
    "# Hypotesting\n",
    " \n",
    "H0 = Pclass has no relationship with survival.\n",
    "H1 = Pclass has relationship with survival.\n",
    "\n",
    "Conclusion: \n",
    "Chi-Square-Test shows p value less than 0.05. So at alpha=0.05 level we reject H0 and consider that Pclass has relationship with survival."
   ]
  },
  {
   "cell_type": "code",
   "execution_count": 20,
   "metadata": {
    "collapsed": false
   },
   "outputs": [
    {
     "name": "stdout",
     "output_type": "stream",
     "text": [
      "Pclass    Lower Class  Middle Class  Upper Class\n",
      "Survived                                        \n",
      "False             372            97           80\n",
      "True              119            87          136\n",
      "[['Chi-Square Test', 102.88898875696057], ['P-Value', 4.5492517112987287e-23]]\n"
     ]
    }
   ],
   "source": [
    "table = pd.crosstab([titanic_df['Survived']], titanic_df['Pclass'])\n",
    "chi2, p, dof, expected = stats.chi2_contingency(table.values)\n",
    "results = [\n",
    "    ['Chi-Square Test',chi2],\n",
    "    ['P-Value', p]\n",
    "]\n",
    "print table\n",
    "print results"
   ]
  },
  {
   "cell_type": "markdown",
   "metadata": {},
   "source": [
    "# 5.3 Survival analysis by the number of parents and children/brother and sister"
   ]
  },
  {
   "cell_type": "code",
   "execution_count": 21,
   "metadata": {
    "collapsed": false
   },
   "outputs": [
    {
     "name": "stdout",
     "output_type": "stream",
     "text": [
      "Parch\n",
      "0    0.343658\n",
      "1    0.550847\n",
      "2    0.500000\n",
      "3    0.600000\n",
      "4    0.000000\n",
      "5    0.200000\n",
      "6    0.000000\n",
      "Name: Survived, dtype: float64\n"
     ]
    }
   ],
   "source": [
    "# Survival rate of Parch variable\n",
    "print  titanic_df.groupby('Parch').Survived.mean()"
   ]
  },
  {
   "cell_type": "code",
   "execution_count": 22,
   "metadata": {
    "collapsed": false
   },
   "outputs": [
    {
     "data": {
      "image/png": "[encoded data removed]",
      "text/plain": [
       "<matplotlib.figure.Figure at 0xbad8780>"
      ]
     },
     "metadata": {},
     "output_type": "display_data"
    }
   ],
   "source": [
    "labels = 'Survived', 'Unsurvived'\n",
    "colors = ['green', 'gray']\n",
    "\n",
    "data1 = np.array([0.5,0.5])\n",
    "data2 = np.array([0.07,0.93])\n",
    "\n",
    "fig, (ax1, ax2) = plt.subplots(1, 2,figsize=(10,5))\n",
    "ax1.pie(data1,labels=labels, colors=colors,\n",
    "       autopct='%1.1f%%', shadow=True, startangle=90)\n",
    "ax1.set_title(\"Percent of survivors by Parch <= 3 \",fontsize=14)\n",
    "\n",
    "ax2.pie(data2,labels=labels, colors=colors,\n",
    "       autopct='%1.1f%%', shadow=True, startangle=90)\n",
    "ax2.set_title(\"Percent of survivors by Parch > 3 \",fontsize=14)\n",
    "\n",
    "plt.show()"
   ]
  },
  {
   "cell_type": "markdown",
   "metadata": {},
   "source": [
    "This figue shows Parch group which is less or equal than 3 has higher survival percentage."
   ]
  },
  {
   "cell_type": "code",
   "execution_count": 23,
   "metadata": {
    "collapsed": false
   },
   "outputs": [
    {
     "name": "stdout",
     "output_type": "stream",
     "text": [
      "SibSp\n",
      "0    0.345395\n",
      "1    0.535885\n",
      "2    0.464286\n",
      "3    0.250000\n",
      "4    0.166667\n",
      "5    0.000000\n",
      "8    0.000000\n",
      "Name: Survived, dtype: float64\n"
     ]
    }
   ],
   "source": [
    "# Survival rate of SibSp variable\n",
    "print  titanic_df.groupby('SibSp').Survived.mean()"
   ]
  },
  {
   "cell_type": "code",
   "execution_count": 24,
   "metadata": {
    "collapsed": false
   },
   "outputs": [
    {
     "data": {
      "image/png": "[encoded data removed]",
      "text/plain": [
       "<matplotlib.figure.Figure at 0xbad5320>"
      ]
     },
     "metadata": {},
     "output_type": "display_data"
    }
   ],
   "source": [
    "labels = 'Survived', 'Unsurvived'\n",
    "colors = ['green', 'gray']\n",
    "\n",
    "data1 = np.array([0.45,0.55])\n",
    "data2 = np.array([0.10,0.90])\n",
    "\n",
    "fig, (ax1, ax2) = plt.subplots(1, 2,figsize=(10,5))\n",
    "ax1.pie(data1,labels=labels, colors=colors,\n",
    "       autopct='%1.1f%%', shadow=True, startangle=90)\n",
    "ax1.set_title(\"Percent of survivors by SibSp < 3 \",fontsize=14)\n",
    "\n",
    "ax2.pie(data2,labels=labels, colors=colors,\n",
    "       autopct='%1.1f%%', shadow=True, startangle=90)\n",
    "ax2.set_title(\"Percent of survivors by SibSp >= 3 \",fontsize=14)\n",
    "\n",
    "plt.show()"
   ]
  },
  {
   "cell_type": "markdown",
   "metadata": {},
   "source": [
    "This figure shows SibSp group which is less than 3 has higher survival rate."
   ]
  },
  {
   "cell_type": "markdown",
   "metadata": {},
   "source": [
    "# 5.4 Age and Survival(using dataset removed missing age values)"
   ]
  },
  {
   "cell_type": "code",
   "execution_count": 25,
   "metadata": {
    "collapsed": false
   },
   "outputs": [
    {
     "name": "stdout",
     "output_type": "stream",
     "text": [
      "age_group\n",
      "0-9      0.612903\n",
      "10-19    0.401961\n",
      "20-29    0.350000\n",
      "30-39    0.437126\n",
      "40-49    0.382022\n",
      "50-59    0.416667\n",
      "60-69    0.315789\n",
      "70-79    0.000000\n",
      "Name: Survived, dtype: float64\n"
     ]
    }
   ],
   "source": [
    "# age group distribution\n",
    "print titanic_dropna.groupby(['age_group']).Survived.mean()"
   ]
  },
  {
   "cell_type": "code",
   "execution_count": 26,
   "metadata": {
    "collapsed": false
   },
   "outputs": [
    {
     "data": {
      "image/png": "[encoded data removed]",
      "text/plain": [
       "<matplotlib.figure.Figure at 0x8405940>"
      ]
     },
     "metadata": {},
     "output_type": "display_data"
    }
   ],
   "source": [
    "titanic_dropna.groupby(['age_group']).size().plot(kind='bar',stacked=True,color='r')\n",
    "plt.title(\"Distribution of Age Groups\",fontsize=14)\n",
    "plt.ylabel('Count')\n",
    "plt.xlabel('Age Group');\n",
    "# From the plot above we can see that the majority of passengers were aged between 20-29"
   ]
  },
  {
   "cell_type": "code",
   "execution_count": 27,
   "metadata": {
    "collapsed": true
   },
   "outputs": [],
   "source": [
    "survivors_data2 = titanic_dropna[titanic_dropna.Survived==True]\n",
    "non_survivors_data2 = titanic_dropna[titanic_dropna.Survived==False]"
   ]
  },
  {
   "cell_type": "code",
   "execution_count": 28,
   "metadata": {
    "collapsed": false
   },
   "outputs": [
    {
     "data": {
      "text/plain": [
       "<matplotlib.text.Text at 0xd4622e8>"
      ]
     },
     "execution_count": 28,
     "metadata": {},
     "output_type": "execute_result"
    },
    {
     "data": {
      "image/png": "[encoded data removed]",
      "text/plain": [
       "<matplotlib.figure.Figure at 0xd216b00>"
      ]
     },
     "metadata": {},
     "output_type": "display_data"
    }
   ],
   "source": [
    "# calculate values for each survival status\n",
    "survivors_age_group = survivors_data2.groupby(['age_group']).size().values\n",
    "non_survivors_age_group = non_survivors_data2.groupby(['age_group']).size().values\n",
    "\n",
    "# calculate totals for percentates\n",
    "totals = survivors_age_group + non_survivors_age_group\n",
    "\n",
    "# use calculate_percentage_function to calculate percentage of the total\n",
    "data1_percentages = calculate_percentage(survivors_age_group, totals)*100 \n",
    "data2_percentages = calculate_percentage(non_survivors_age_group, totals)*100 \n",
    "\n",
    "\n",
    "tick_spacing = np.array(range(len(age_labels)))+0.4\n",
    "\n",
    "\n",
    "f, (ax1, ax2) = plt.subplots(1, 2, figsize=(10,5))\n",
    "# plot chart for count of survivors by class\n",
    "ax1.bar(range(len(survivors_age_group)), survivors_age_group, label='Survivors', alpha=0.5, color='g')\n",
    "ax1.bar(range(len(non_survivors_age_group)), non_survivors_age_group, bottom=survivors_age_group, label='Non-Survivors', alpha=0.5, color='r')\n",
    "plt.sca(ax1)\n",
    "plt.xticks(tick_spacing, age_labels )\n",
    "ax1.set_ylabel(\"Count\")\n",
    "ax1.set_xlabel(\"\")\n",
    "ax1.set_title(\"Count of survivors by age group\",fontsize=14)\n",
    "plt.legend(loc='upper right')\n",
    "\n",
    "# plot chart for percentage of survivors by class\n",
    "ax2.bar(range(len(data1_percentages)), data1_percentages, alpha=0.5, color='g')\n",
    "ax2.bar(range(len(data2_percentages)), data2_percentages, bottom=data1_percentages, alpha=0.5, color='r')\n",
    "plt.sca(ax2)\n",
    "plt.xticks(tick_spacing,  age_labels)\n",
    "ax2.set_ylabel(\"Percentage\")\n",
    "ax2.set_xlabel(\"\")\n",
    "ax2.set_title(\"% of survivors by age group\",fontsize=14)"
   ]
  },
  {
   "cell_type": "markdown",
   "metadata": {},
   "source": [
    "This plot shows old people have lowest survial rate.It is some confusing and we shoud take into consideration the gender / sex of the passengers as well."
   ]
  },
  {
   "cell_type": "markdown",
   "metadata": {},
   "source": [
    "# Hypotesting\n",
    " \n",
    "H0 = Age has no relationship with survival.\n",
    "H1 = Age has relationship with survival.\n",
    "\n",
    "Conclusion: \n",
    "Chi-Square-Test shows p value less than 0.05. So at alpha=0.05 level we reject H0 and consider that age has relationship with survival."
   ]
  },
  {
   "cell_type": "code",
   "execution_count": 29,
   "metadata": {
    "collapsed": false
   },
   "outputs": [
    {
     "name": "stdout",
     "output_type": "stream",
     "text": [
      "age_group  0-9  10-19  20-29  30-39  40-49  50-59  60-69  70-79\n",
      "Survived                                                       \n",
      "False       24     61    143     94     55     28     13      6\n",
      "True        38     41     77     73     34     20      6      0\n",
      "[['Chi-Square Test', 19.530055983108639], ['P-Value', 0.0066794173710035933]]\n"
     ]
    }
   ],
   "source": [
    "table = pd.crosstab([titanic_dropna['Survived']], titanic_dropna['age_group'])\n",
    "chi2, p, dof, expected = stats.chi2_contingency(table.values)\n",
    "results = [\n",
    "    ['Chi-Square Test',chi2],\n",
    "    ['P-Value', p]\n",
    "]\n",
    "print table\n",
    "print results"
   ]
  },
  {
   "cell_type": "markdown",
   "metadata": {},
   "source": [
    "# 5.5 Survival analysis by gender and age group"
   ]
  },
  {
   "cell_type": "code",
   "execution_count": 30,
   "metadata": {
    "collapsed": false
   },
   "outputs": [
    {
     "name": "stdout",
     "output_type": "stream",
     "text": [
      "Sex     age_group\n",
      "female  0-9          0.633333\n",
      "        10-19        0.755556\n",
      "        20-29        0.722222\n",
      "        30-39        0.833333\n",
      "        40-49        0.687500\n",
      "        50-59        0.888889\n",
      "        60-69        1.000000\n",
      "male    0-9          0.593750\n",
      "        10-19        0.122807\n",
      "        20-29        0.168919\n",
      "        30-39        0.214953\n",
      "        40-49        0.210526\n",
      "        50-59        0.133333\n",
      "        60-69        0.133333\n",
      "        70-79        0.000000\n",
      "Name: Survived, dtype: float64\n"
     ]
    }
   ],
   "source": [
    "print titanic_dropna.groupby(['Sex','age_group']).Survived.mean()"
   ]
  },
  {
   "cell_type": "code",
   "execution_count": 31,
   "metadata": {
    "collapsed": false
   },
   "outputs": [
    {
     "data": {
      "image/png": "[encoded data removed]",
      "text/plain": [
       "<matplotlib.figure.Figure at 0xd2167b8>"
      ]
     },
     "metadata": {},
     "output_type": "display_data"
    }
   ],
   "source": [
    "male_data = titanic_dropna[titanic_dropna.Sex == \"male\"].groupby('age_group').Survived.mean().values\n",
    "female_data = titanic_dropna[titanic_dropna.Sex == \"female\"].groupby('age_group').Survived.mean().values\n",
    "ax = plt.subplot()\n",
    "male_plt_position = np.array(range(len(age_labels)))\n",
    "female_plt_position = np.array(range(len(age_labels)))+0.4\n",
    "ax.bar(male_plt_position, male_data,width=0.4,label='Male',color='b')\n",
    "ax.bar(female_plt_position, female_data,width=0.4,label='Female',color='r')\n",
    "plt.xticks(tick_spacing,  age_labels)\n",
    "ax.set_ylabel(\"Proportion\")\n",
    "ax.set_xlabel(\"Age Group\")\n",
    "ax.set_title(\"Proportion of survivors by age group / Gender\",fontsize=14)\n",
    "plt.legend(loc='best')\n",
    "plt.show()"
   ]
  },
  {
   "cell_type": "markdown",
   "metadata": {},
   "source": [
    "The plot \"Proportion of survivors by age group / gender\" shows that children (0-9 years old, male and female) and women (all ages) had a much higher proportion of survivors. This supports the notion of the seats in the lifeboats been given to Women and Children first."
   ]
  },
  {
   "cell_type": "markdown",
   "metadata": {
    "collapsed": true
   },
   "source": [
    "# 6. Conclusion \n",
    "\n",
    "6.1 Summary of data analysis\n",
    "(a) Gender,age,social class, number of parents/children and number of sisters/brothers are all the factor which have effect on survival rate.\n",
    "(b) Social class analysis shows that whilst the lower class had more passengers, than all classes, and more survivors than the middle class, the lower class had the lowest survival rate. The Upper Class passengers had the highest survival rate.\n",
    "(c) Age/gender analysis shows children (0-9 years old, male and female) and women (all ages) had a much higher proportion of survivors. \n",
    "(d) Passengers with the number of parent/childer (<=3) or number of sisters/brothers(< 3) have higher survival rate. \n",
    "The weight of each risk factors in the survival rate can be studied by setting up predictive models.\n",
    "\n",
    "6.2 Limitations\n",
    "The are a number of limitations with the Titanic Dataset, which are caused by:\n",
    "1.missing data\n",
    "2.only been a sample of the data\n",
    "The missing data and size of the sample could skew the results for example the missing ages.\n"
   ]
  },
  {
   "cell_type": "code",
   "execution_count": 32,
   "metadata": {
    "collapsed": false
   },
   "outputs": [
    {
     "name": "stdout",
     "output_type": "stream",
     "text": [
      "Sex\n",
      "female     53\n",
      "male      124\n",
      "dtype: int64\n"
     ]
    }
   ],
   "source": [
    "print missing_ages.groupby('Sex').size()"
   ]
  },
  {
   "cell_type": "markdown",
   "metadata": {},
   "source": [
    "The above table shows that there were 53 ages missing for females and 124 ages missing for males. Different ways to deal with missing values have different prons and cons.\n",
    "\n",
    "1.Delete the rows with the missing ages - this would limit the accuracy of the analysis of the gender and class, however the accuracy of the analysis of the Age factor would be more accurate.\n",
    "2.Generate ages based on the mean of ages - this could skew the results of the age analysis. In section 4.1, figure shows filling in missing values with the Age column artificially affects the distribution. We can observe this by plotting the line before and after.\n",
    "So removing passengers missing with age variable while we need to analyzing aging variable would be a simple way which has less effect on other variables.\n",
    "\n",
    "The size of the sample data could also impact the results as we don't know if this is a random sample or if the selection of the data is biased or unbiased.\n"
   ]
  },
  {
   "cell_type": "markdown",
   "metadata": {},
   "source": [
    "6.3 Other variables \n",
    "\n",
    "As with most datasets the more information we have the better it can be analysed. I believe that we could add the following variables:\n",
    "•passenger or crew - the current dataset doesn't distingush between passenger or crew, however from history we know that a mixture of both survived.\n",
    "•life boat number - the reason why there were so many fatalities on board the Titanic was due to there not been enough lifeboats. I believe that if we knew the lifeboat number and the capacity of a lifeboat we could determine if it was possible for more people to survive."
   ]
  }
 ],
 "metadata": {
  "anaconda-cloud": {},
  "kernelspec": {
   "display_name": "Python [Root]",
   "language": "python",
   "name": "Python [Root]"
  },
  "language_info": {
   "codemirror_mode": {
    "name": "ipython",
    "version": 2
   },
   "file_extension": ".py",
   "mimetype": "text/x-python",
   "name": "python",
   "nbconvert_exporter": "python",
   "pygments_lexer": "ipython2",
   "version": "2.7.12"
  }
 },
 "nbformat": 4,
 "nbformat_minor": 0
}
